{
 "cells": [
  {
   "cell_type": "code",
   "execution_count": 1,
   "id": "9ecfa8f5",
   "metadata": {},
   "outputs": [],
   "source": [
    "import pandas as pd"
   ]
  },
  {
   "cell_type": "code",
   "execution_count": 2,
   "id": "f8e78a36",
   "metadata": {},
   "outputs": [
    {
     "data": {
      "text/plain": [
       "['Pritam   ', 'Kir    an', '    pooja', '**sarang##', 'Suji123$t']"
      ]
     },
     "execution_count": 2,
     "metadata": {},
     "output_type": "execute_result"
    }
   ],
   "source": [
    "data = ['Pritam   ','Kir    an','    pooja','**sarang##','Suji123$t']\n",
    "data"
   ]
  },
  {
   "cell_type": "markdown",
   "id": "fb91777d",
   "metadata": {},
   "source": [
    "## preprocessing over text data"
   ]
  },
  {
   "cell_type": "code",
   "execution_count": 3,
   "id": "83a857d4",
   "metadata": {},
   "outputs": [
    {
     "data": {
      "text/plain": [
       "0     Pritam   \n",
       "1     Kir    an\n",
       "2         pooja\n",
       "3    **sarang##\n",
       "4     Suji123$t\n",
       "dtype: object"
      ]
     },
     "execution_count": 3,
     "metadata": {},
     "output_type": "execute_result"
    }
   ],
   "source": [
    "s = pd.Series(data)\n",
    "s"
   ]
  },
  {
   "cell_type": "code",
   "execution_count": 4,
   "id": "6a7221b4",
   "metadata": {},
   "outputs": [
    {
     "data": {
      "text/plain": [
       "0        Pritam\n",
       "1     Kir    an\n",
       "2         pooja\n",
       "3    **sarang##\n",
       "4     Suji123$t\n",
       "dtype: object"
      ]
     },
     "execution_count": 4,
     "metadata": {},
     "output_type": "execute_result"
    }
   ],
   "source": [
    "# lets apply strip method from str to remove spaces at prefix and sufix\n",
    "s = s.str.strip()\n",
    "s"
   ]
  },
  {
   "cell_type": "code",
   "execution_count": 5,
   "id": "f4508269",
   "metadata": {},
   "outputs": [
    {
     "data": {
      "text/plain": [
       "0       Pritam\n",
       "1    Kir    an\n",
       "2        pooja\n",
       "3       sarang\n",
       "4    Suji123$t\n",
       "dtype: object"
      ]
     },
     "execution_count": 5,
     "metadata": {},
     "output_type": "execute_result"
    }
   ],
   "source": [
    "# use strip to remove * and # from both the ends\n",
    "\n",
    "s = s.str.strip('#*')\n",
    "s"
   ]
  },
  {
   "cell_type": "code",
   "execution_count": 6,
   "id": "26d6220d",
   "metadata": {},
   "outputs": [
    {
     "data": {
      "text/plain": [
       "0       Pritam\n",
       "1        Kiran\n",
       "2        pooja\n",
       "3       sarang\n",
       "4    Suji123$t\n",
       "dtype: object"
      ]
     },
     "execution_count": 6,
     "metadata": {},
     "output_type": "execute_result"
    }
   ],
   "source": [
    "# in between char/blocks can be removed using a replace\n",
    "s = s.str.replace(' ','')\n",
    "s"
   ]
  },
  {
   "cell_type": "code",
   "execution_count": 7,
   "id": "b3735946",
   "metadata": {},
   "outputs": [
    {
     "data": {
      "text/plain": [
       "0    Pritam\n",
       "1     Kiran\n",
       "2     pooja\n",
       "3    sarang\n",
       "4    Suji$t\n",
       "dtype: object"
      ]
     },
     "execution_count": 7,
     "metadata": {},
     "output_type": "execute_result"
    }
   ],
   "source": [
    "s = s.str.replace('123','')\n",
    "s"
   ]
  },
  {
   "cell_type": "code",
   "execution_count": 8,
   "id": "4f29387e",
   "metadata": {},
   "outputs": [
    {
     "name": "stderr",
     "output_type": "stream",
     "text": [
      "C:\\Users\\abhis\\AppData\\Local\\Temp\\ipykernel_9004\\3969153480.py:1: FutureWarning: The default value of regex will change from True to False in a future version. In addition, single character regular expressions will *not* be treated as literal strings when regex=True.\n",
      "  s = s.str.replace('$','')\n"
     ]
    },
    {
     "data": {
      "text/plain": [
       "0    Pritam\n",
       "1     Kiran\n",
       "2     pooja\n",
       "3    sarang\n",
       "4     Sujit\n",
       "dtype: object"
      ]
     },
     "execution_count": 8,
     "metadata": {},
     "output_type": "execute_result"
    }
   ],
   "source": [
    "s = s.str.replace('$','')\n",
    "s"
   ]
  },
  {
   "cell_type": "code",
   "execution_count": 9,
   "id": "0542934c",
   "metadata": {},
   "outputs": [
    {
     "data": {
      "text/plain": [
       "['Pritam   ', 'Kir    an', '    pooja', '**sarang##', 'Suji123$t']"
      ]
     },
     "execution_count": 9,
     "metadata": {},
     "output_type": "execute_result"
    }
   ],
   "source": [
    "data"
   ]
  },
  {
   "cell_type": "code",
   "execution_count": 10,
   "id": "2a20a5fc",
   "metadata": {},
   "outputs": [
    {
     "data": {
      "text/plain": [
       "0    Pritam\n",
       "1     Kiran\n",
       "2     Pooja\n",
       "3    Sarang\n",
       "4     Sujit\n",
       "dtype: object"
      ]
     },
     "execution_count": 10,
     "metadata": {},
     "output_type": "execute_result"
    }
   ],
   "source": [
    "# i want to convert names into title case\n",
    "s = s.str.title()\n",
    "s"
   ]
  },
  {
   "cell_type": "markdown",
   "id": "4d47b628",
   "metadata": {},
   "source": [
    "### Sort the names present in the Series"
   ]
  },
  {
   "cell_type": "code",
   "execution_count": 11,
   "id": "12245e7b",
   "metadata": {},
   "outputs": [
    {
     "data": {
      "text/plain": [
       "1     Kiran\n",
       "2     Pooja\n",
       "0    Pritam\n",
       "3    Sarang\n",
       "4     Sujit\n",
       "dtype: object"
      ]
     },
     "execution_count": 11,
     "metadata": {},
     "output_type": "execute_result"
    }
   ],
   "source": [
    "s.sort_values() # output is temp\n",
    "# it sorts the values in ascending data by default"
   ]
  },
  {
   "cell_type": "code",
   "execution_count": 12,
   "id": "1c498fa2",
   "metadata": {},
   "outputs": [
    {
     "data": {
      "text/plain": [
       "4     Sujit\n",
       "3    Sarang\n",
       "0    Pritam\n",
       "2     Pooja\n",
       "1     Kiran\n",
       "dtype: object"
      ]
     },
     "execution_count": 12,
     "metadata": {},
     "output_type": "execute_result"
    }
   ],
   "source": [
    "# to sort in decending order use keyword, ascending=False by default it is True\n",
    "s.sort_values(ascending=False)"
   ]
  },
  {
   "cell_type": "code",
   "execution_count": 13,
   "id": "8394ee04",
   "metadata": {},
   "outputs": [
    {
     "data": {
      "text/plain": [
       "4     Sujit\n",
       "3    Sarang\n",
       "0    Pritam\n",
       "2     Pooja\n",
       "1     Kiran\n",
       "dtype: object"
      ]
     },
     "execution_count": 13,
     "metadata": {},
     "output_type": "execute_result"
    }
   ],
   "source": [
    "z= s.sort_values(ascending=False)\n",
    "z"
   ]
  },
  {
   "cell_type": "code",
   "execution_count": 14,
   "id": "f6b15c60",
   "metadata": {},
   "outputs": [
    {
     "data": {
      "text/html": [
       "<div>\n",
       "<style scoped>\n",
       "    .dataframe tbody tr th:only-of-type {\n",
       "        vertical-align: middle;\n",
       "    }\n",
       "\n",
       "    .dataframe tbody tr th {\n",
       "        vertical-align: top;\n",
       "    }\n",
       "\n",
       "    .dataframe thead th {\n",
       "        text-align: right;\n",
       "    }\n",
       "</style>\n",
       "<table border=\"1\" class=\"dataframe\">\n",
       "  <thead>\n",
       "    <tr style=\"text-align: right;\">\n",
       "      <th></th>\n",
       "      <th>index</th>\n",
       "      <th>0</th>\n",
       "    </tr>\n",
       "  </thead>\n",
       "  <tbody>\n",
       "    <tr>\n",
       "      <th>0</th>\n",
       "      <td>4</td>\n",
       "      <td>Sujit</td>\n",
       "    </tr>\n",
       "    <tr>\n",
       "      <th>1</th>\n",
       "      <td>3</td>\n",
       "      <td>Sarang</td>\n",
       "    </tr>\n",
       "    <tr>\n",
       "      <th>2</th>\n",
       "      <td>0</td>\n",
       "      <td>Pritam</td>\n",
       "    </tr>\n",
       "    <tr>\n",
       "      <th>3</th>\n",
       "      <td>2</td>\n",
       "      <td>Pooja</td>\n",
       "    </tr>\n",
       "    <tr>\n",
       "      <th>4</th>\n",
       "      <td>1</td>\n",
       "      <td>Kiran</td>\n",
       "    </tr>\n",
       "  </tbody>\n",
       "</table>\n",
       "</div>"
      ],
      "text/plain": [
       "   index       0\n",
       "0      4   Sujit\n",
       "1      3  Sarang\n",
       "2      0  Pritam\n",
       "3      2   Pooja\n",
       "4      1   Kiran"
      ]
     },
     "execution_count": 14,
     "metadata": {},
     "output_type": "execute_result"
    }
   ],
   "source": [
    "# in above case indices are not in sequence order \n",
    "# to align them properly \n",
    "z.reset_index()\n",
    "# gives a temp. dataframe"
   ]
  },
  {
   "cell_type": "code",
   "execution_count": 15,
   "id": "acf7425c",
   "metadata": {},
   "outputs": [
    {
     "data": {
      "text/plain": [
       "0     Sujit\n",
       "1    Sarang\n",
       "2    Pritam\n",
       "3     Pooja\n",
       "4     Kiran\n",
       "dtype: object"
      ]
     },
     "execution_count": 15,
     "metadata": {},
     "output_type": "execute_result"
    }
   ],
   "source": [
    "# if we dont want extra index column which appears in above output\n",
    "z.reset_index(drop=True)\n",
    "# returns temp Series"
   ]
  },
  {
   "cell_type": "code",
   "execution_count": 16,
   "id": "d42fd211",
   "metadata": {},
   "outputs": [
    {
     "data": {
      "text/plain": [
       "4     Sujit\n",
       "3    Sarang\n",
       "0    Pritam\n",
       "2     Pooja\n",
       "1     Kiran\n",
       "dtype: object"
      ]
     },
     "execution_count": 16,
     "metadata": {},
     "output_type": "execute_result"
    }
   ],
   "source": [
    "z"
   ]
  },
  {
   "cell_type": "code",
   "execution_count": 17,
   "id": "c020292b",
   "metadata": {},
   "outputs": [
    {
     "data": {
      "text/plain": [
       "0    Pritam\n",
       "1     Kiran\n",
       "2     Pooja\n",
       "3    Sarang\n",
       "4     Sujit\n",
       "dtype: object"
      ]
     },
     "execution_count": 17,
     "metadata": {},
     "output_type": "execute_result"
    }
   ],
   "source": [
    "# if we want to sort the data with index then use sort_index()\n",
    "z.sort_index() # it returns temporary output"
   ]
  },
  {
   "cell_type": "code",
   "execution_count": 18,
   "id": "740099ca",
   "metadata": {},
   "outputs": [],
   "source": [
    "# if you want permanant solution\n",
    "# ie. changes should persist in z permanantly\n",
    "# then use inplace attribute\n",
    "z.sort_index(inplace=True)"
   ]
  },
  {
   "cell_type": "code",
   "execution_count": 19,
   "id": "bad5789a",
   "metadata": {},
   "outputs": [
    {
     "data": {
      "text/plain": [
       "0    Pritam\n",
       "1     Kiran\n",
       "2     Pooja\n",
       "3    Sarang\n",
       "4     Sujit\n",
       "dtype: object"
      ]
     },
     "execution_count": 19,
     "metadata": {},
     "output_type": "execute_result"
    }
   ],
   "source": [
    "z"
   ]
  },
  {
   "cell_type": "code",
   "execution_count": 20,
   "id": "a2fb0121",
   "metadata": {},
   "outputs": [
    {
     "data": {
      "text/plain": [
       "0     10\n",
       "10    20\n",
       "4     30\n",
       "5     40\n",
       "dtype: int64"
      ]
     },
     "execution_count": 20,
     "metadata": {},
     "output_type": "execute_result"
    }
   ],
   "source": [
    "e = pd.Series([10,20,30,40],[0,10,4,5])\n",
    "e"
   ]
  },
  {
   "cell_type": "code",
   "execution_count": 21,
   "id": "449e78c7",
   "metadata": {},
   "outputs": [
    {
     "data": {
      "text/plain": [
       "0    10\n",
       "1    20\n",
       "2    30\n",
       "3    40\n",
       "dtype: int64"
      ]
     },
     "execution_count": 21,
     "metadata": {},
     "output_type": "execute_result"
    }
   ],
   "source": [
    "# sort index only\n",
    "e.reset_index(drop=True)"
   ]
  },
  {
   "cell_type": "code",
   "execution_count": 22,
   "id": "f8e57b7a",
   "metadata": {},
   "outputs": [
    {
     "data": {
      "text/plain": [
       "0     10\n",
       "4     30\n",
       "5     40\n",
       "10    20\n",
       "dtype: int64"
      ]
     },
     "execution_count": 22,
     "metadata": {},
     "output_type": "execute_result"
    }
   ],
   "source": [
    "# now sort the values with respect to index\n",
    "e.sort_index()"
   ]
  },
  {
   "cell_type": "markdown",
   "id": "605ff5af",
   "metadata": {},
   "source": [
    "# ---------------------------------------------------"
   ]
  },
  {
   "cell_type": "code",
   "execution_count": 23,
   "id": "b2f40993",
   "metadata": {},
   "outputs": [
    {
     "data": {
      "text/plain": [
       "0    Pritam\n",
       "1     Kiran\n",
       "2     Pooja\n",
       "3    Sarang\n",
       "4     Sujit\n",
       "dtype: object"
      ]
     },
     "execution_count": 23,
     "metadata": {},
     "output_type": "execute_result"
    }
   ],
   "source": [
    "s"
   ]
  },
  {
   "cell_type": "code",
   "execution_count": 24,
   "id": "bba7497d",
   "metadata": {},
   "outputs": [
    {
     "name": "stdout",
     "output_type": "stream",
     "text": [
      "6\n",
      "5\n",
      "5\n",
      "6\n",
      "5\n"
     ]
    }
   ],
   "source": [
    "# calculate the length of each name from above Series\n",
    "for i in s:\n",
    "    print(len(i))"
   ]
  },
  {
   "cell_type": "code",
   "execution_count": 25,
   "id": "de796271",
   "metadata": {},
   "outputs": [
    {
     "data": {
      "text/plain": [
       "[6, 5, 5, 6, 5]"
      ]
     },
     "execution_count": 25,
     "metadata": {},
     "output_type": "execute_result"
    }
   ],
   "source": [
    "# 2nd sol\n",
    "# using list comprehension\n",
    "[len(i) for i in s]"
   ]
  },
  {
   "cell_type": "markdown",
   "id": "8c7be61b",
   "metadata": {},
   "source": [
    "## apply(func)"
   ]
  },
  {
   "cell_type": "code",
   "execution_count": 27,
   "id": "8a5aa567",
   "metadata": {},
   "outputs": [
    {
     "data": {
      "text/plain": [
       "0    6\n",
       "1    5\n",
       "2    5\n",
       "3    6\n",
       "4    5\n",
       "dtype: int64"
      ]
     },
     "execution_count": 27,
     "metadata": {},
     "output_type": "execute_result"
    }
   ],
   "source": [
    "l =  lambda nm: len(nm)\n",
    "s.apply(l)"
   ]
  },
  {
   "cell_type": "code",
   "execution_count": 28,
   "id": "c8b38d85",
   "metadata": {},
   "outputs": [
    {
     "data": {
      "text/plain": [
       "0    Pritam\n",
       "1     Kiran\n",
       "2     Pooja\n",
       "3    Sarang\n",
       "4     Sujit\n",
       "dtype: object"
      ]
     },
     "execution_count": 28,
     "metadata": {},
     "output_type": "execute_result"
    }
   ],
   "source": [
    "s"
   ]
  },
  {
   "cell_type": "code",
   "execution_count": 29,
   "id": "c8e881b3",
   "metadata": {},
   "outputs": [
    {
     "data": {
      "text/plain": [
       "0    PRITAM\n",
       "1     KIRAN\n",
       "2     POOJA\n",
       "3    SARANG\n",
       "4     SUJIT\n",
       "dtype: object"
      ]
     },
     "execution_count": 29,
     "metadata": {},
     "output_type": "execute_result"
    }
   ],
   "source": [
    "# convert a names to uppercase\n",
    "s.str.upper()"
   ]
  },
  {
   "cell_type": "code",
   "execution_count": 31,
   "id": "937f2b85",
   "metadata": {},
   "outputs": [
    {
     "data": {
      "text/plain": [
       "0    PRITAM\n",
       "1     KIRAN\n",
       "2     POOJA\n",
       "3    SARANG\n",
       "4     SUJIT\n",
       "dtype: object"
      ]
     },
     "execution_count": 31,
     "metadata": {},
     "output_type": "execute_result"
    }
   ],
   "source": [
    "# another sol. using apply()\n",
    "s.apply(lambda nm:nm.upper())"
   ]
  },
  {
   "cell_type": "code",
   "execution_count": 33,
   "id": "6a90e780",
   "metadata": {},
   "outputs": [
    {
     "data": {
      "text/plain": [
       "['PRITAM', 'KIRAN', 'POOJA', 'SARANG', 'SUJIT']"
      ]
     },
     "execution_count": 33,
     "metadata": {},
     "output_type": "execute_result"
    }
   ],
   "source": [
    "# another sol, using map(func,sequence) Python\n",
    "list(map(lambda x:x.upper(),s))"
   ]
  },
  {
   "cell_type": "markdown",
   "id": "26417812",
   "metadata": {},
   "source": [
    "## map()"
   ]
  },
  {
   "cell_type": "code",
   "execution_count": 34,
   "id": "1a016413",
   "metadata": {},
   "outputs": [
    {
     "data": {
      "text/plain": [
       "0    PRITAM\n",
       "1     KIRAN\n",
       "2     POOJA\n",
       "3    SARANG\n",
       "4     SUJIT\n",
       "dtype: object"
      ]
     },
     "execution_count": 34,
     "metadata": {},
     "output_type": "execute_result"
    }
   ],
   "source": [
    "s.map(lambda nm: nm.upper())"
   ]
  },
  {
   "cell_type": "code",
   "execution_count": 35,
   "id": "be3ad852",
   "metadata": {},
   "outputs": [
    {
     "data": {
      "text/plain": [
       "0         Arti Patil\n",
       "1    Deepali Bhosale\n",
       "2       Gaurav Desai\n",
       "dtype: object"
      ]
     },
     "execution_count": 35,
     "metadata": {},
     "output_type": "execute_result"
    }
   ],
   "source": [
    "# Interview Question\n",
    "k = pd.Series(['Arti Patil','Deepali Bhosale','Gaurav Desai'])\n",
    "k"
   ]
  },
  {
   "cell_type": "markdown",
   "id": "503b9847",
   "metadata": {},
   "source": [
    "### P.S. - Fetch Series of Surname"
   ]
  },
  {
   "cell_type": "code",
   "execution_count": 36,
   "id": "f4296821",
   "metadata": {},
   "outputs": [
    {
     "data": {
      "text/plain": [
       "0      Patil\n",
       "1    Bhosale\n",
       "2      Desai\n",
       "dtype: object"
      ]
     },
     "execution_count": 36,
     "metadata": {},
     "output_type": "execute_result"
    }
   ],
   "source": [
    "k.apply(lambda x:x.split()[-1])"
   ]
  },
  {
   "cell_type": "code",
   "execution_count": 37,
   "id": "20ae48b0",
   "metadata": {},
   "outputs": [
    {
     "data": {
      "text/plain": [
       "0      Patil\n",
       "1    Bhosale\n",
       "2      Desai\n",
       "dtype: object"
      ]
     },
     "execution_count": 37,
     "metadata": {},
     "output_type": "execute_result"
    }
   ],
   "source": [
    "k.map(lambda nm:nm.split()[-1])"
   ]
  },
  {
   "cell_type": "code",
   "execution_count": 38,
   "id": "c3b7f635",
   "metadata": {},
   "outputs": [
    {
     "name": "stdout",
     "output_type": "stream",
     "text": [
      "Patil\n",
      "Bhosale\n",
      "Desai\n"
     ]
    }
   ],
   "source": [
    "for i in k:\n",
    "    print(i.split()[-1])"
   ]
  },
  {
   "cell_type": "code",
   "execution_count": 39,
   "id": "3174423b",
   "metadata": {},
   "outputs": [
    {
     "data": {
      "text/plain": [
       "['Patil', 'Bhosale', 'Desai']"
      ]
     },
     "execution_count": 39,
     "metadata": {},
     "output_type": "execute_result"
    }
   ],
   "source": [
    "[i.split()[-1] for i in k]"
   ]
  },
  {
   "cell_type": "code",
   "execution_count": 42,
   "id": "ab9ea22d",
   "metadata": {},
   "outputs": [
    {
     "data": {
      "text/plain": [
       "0      Male\n",
       "1    Female\n",
       "2    Female\n",
       "3      Male\n",
       "dtype: object"
      ]
     },
     "execution_count": 42,
     "metadata": {},
     "output_type": "execute_result"
    }
   ],
   "source": [
    "# Interview Question\n",
    "# if its Male convert to 0 else 1\n",
    "m = pd.Series(['Male','Female','Female','Male'])\n",
    "m"
   ]
  },
  {
   "cell_type": "code",
   "execution_count": 44,
   "id": "875960ae",
   "metadata": {},
   "outputs": [
    {
     "data": {
      "text/plain": [
       "array([0, 1, 1, 0])"
      ]
     },
     "execution_count": 44,
     "metadata": {},
     "output_type": "execute_result"
    }
   ],
   "source": [
    "import numpy as np\n",
    "np.where(m=='Male',0,1)"
   ]
  },
  {
   "cell_type": "code",
   "execution_count": 45,
   "id": "54a749a6",
   "metadata": {},
   "outputs": [
    {
     "data": {
      "text/plain": [
       "[0, 1, 1, 0]"
      ]
     },
     "execution_count": 45,
     "metadata": {},
     "output_type": "execute_result"
    }
   ],
   "source": [
    "# using list comprehension\n",
    "[0 if i =='Male' else 1 for i in m]"
   ]
  },
  {
   "cell_type": "markdown",
   "id": "c5d1b0d3",
   "metadata": {},
   "source": [
    "### Convert Series to list"
   ]
  },
  {
   "cell_type": "code",
   "execution_count": 46,
   "id": "159569d7",
   "metadata": {},
   "outputs": [
    {
     "data": {
      "text/plain": [
       "0    Pritam\n",
       "1     Kiran\n",
       "2     Pooja\n",
       "3    Sarang\n",
       "4     Sujit\n",
       "dtype: object"
      ]
     },
     "execution_count": 46,
     "metadata": {},
     "output_type": "execute_result"
    }
   ],
   "source": [
    "s"
   ]
  },
  {
   "cell_type": "code",
   "execution_count": 48,
   "id": "230b7055",
   "metadata": {},
   "outputs": [
    {
     "data": {
      "text/plain": [
       "['Pritam', 'Kiran', 'Pooja', 'Sarang', 'Sujit']"
      ]
     },
     "execution_count": 48,
     "metadata": {},
     "output_type": "execute_result"
    }
   ],
   "source": [
    "list(s) #sol. 1"
   ]
  },
  {
   "cell_type": "code",
   "execution_count": 49,
   "id": "579b4694",
   "metadata": {},
   "outputs": [
    {
     "data": {
      "text/plain": [
       "['Pritam', 'Kiran', 'Pooja', 'Sarang', 'Sujit']"
      ]
     },
     "execution_count": 49,
     "metadata": {},
     "output_type": "execute_result"
    }
   ],
   "source": [
    "s.to_list() #sol. 2"
   ]
  },
  {
   "cell_type": "code",
   "execution_count": 50,
   "id": "f17f357f",
   "metadata": {},
   "outputs": [
    {
     "data": {
      "text/plain": [
       "{0: 'Pritam', 1: 'Kiran', 2: 'Pooja', 3: 'Sarang', 4: 'Sujit'}"
      ]
     },
     "execution_count": 50,
     "metadata": {},
     "output_type": "execute_result"
    }
   ],
   "source": [
    "s.to_dict()"
   ]
  },
  {
   "cell_type": "code",
   "execution_count": 51,
   "id": "262a829a",
   "metadata": {},
   "outputs": [
    {
     "data": {
      "text/plain": [
       "array(['Pritam', 'Kiran', 'Pooja', 'Sarang', 'Sujit'], dtype=object)"
      ]
     },
     "execution_count": 51,
     "metadata": {},
     "output_type": "execute_result"
    }
   ],
   "source": [
    "s.to_numpy()"
   ]
  },
  {
   "cell_type": "code",
   "execution_count": 52,
   "id": "f2f6ad37",
   "metadata": {},
   "outputs": [
    {
     "data": {
      "text/plain": [
       "0    10000.00 Cr\n",
       "1     4500.00 Dr\n",
       "2     6000.00 Cr\n",
       "dtype: object"
      ]
     },
     "execution_count": 52,
     "metadata": {},
     "output_type": "execute_result"
    }
   ],
   "source": [
    "d = pd.Series(['10000.00 Cr','4500.00 Dr','6000.00 Cr'])\n",
    "d"
   ]
  },
  {
   "cell_type": "code",
   "execution_count": 53,
   "id": "a3d7cb17",
   "metadata": {},
   "outputs": [
    {
     "data": {
      "text/plain": [
       "0    10000.00 Cr\n",
       "2     6000.00 Cr\n",
       "dtype: object"
      ]
     },
     "execution_count": 53,
     "metadata": {},
     "output_type": "execute_result"
    }
   ],
   "source": [
    "# will fetch onlu Cr entries\n",
    "d.str.endswith('Cr')\n",
    "d = d[d.str.endswith('Cr')]\n",
    "d"
   ]
  },
  {
   "cell_type": "code",
   "execution_count": 54,
   "id": "7f433052",
   "metadata": {},
   "outputs": [
    {
     "data": {
      "text/plain": [
       "0    10000.00\n",
       "2     6000.00\n",
       "dtype: object"
      ]
     },
     "execution_count": 54,
     "metadata": {},
     "output_type": "execute_result"
    }
   ],
   "source": [
    "d = d.str.strip(' Cr')\n",
    "d"
   ]
  },
  {
   "cell_type": "code",
   "execution_count": 55,
   "id": "201d110f",
   "metadata": {},
   "outputs": [
    {
     "data": {
      "text/plain": [
       "0    10000.0\n",
       "2     6000.0\n",
       "dtype: float64"
      ]
     },
     "execution_count": 55,
     "metadata": {},
     "output_type": "execute_result"
    }
   ],
   "source": [
    "#convert d from object dtype to float dtype\n",
    "d = d.astype(float)\n",
    "d"
   ]
  },
  {
   "cell_type": "code",
   "execution_count": null,
   "id": "205b0018",
   "metadata": {},
   "outputs": [],
   "source": []
  }
 ],
 "metadata": {
  "kernelspec": {
   "display_name": "Python 3 (ipykernel)",
   "language": "python",
   "name": "python3"
  },
  "language_info": {
   "codemirror_mode": {
    "name": "ipython",
    "version": 3
   },
   "file_extension": ".py",
   "mimetype": "text/x-python",
   "name": "python",
   "nbconvert_exporter": "python",
   "pygments_lexer": "ipython3",
   "version": "3.9.13"
  }
 },
 "nbformat": 4,
 "nbformat_minor": 5
}
