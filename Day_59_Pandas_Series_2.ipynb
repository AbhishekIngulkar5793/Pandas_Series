{
 "cells": [
  {
   "cell_type": "code",
   "execution_count": 1,
   "id": "2acf0f55",
   "metadata": {},
   "outputs": [],
   "source": [
    "import pandas as pd"
   ]
  },
  {
   "cell_type": "markdown",
   "id": "63baa5af",
   "metadata": {},
   "source": [
    "### pd.Series(data,index,dtype)"
   ]
  },
  {
   "cell_type": "code",
   "execution_count": 2,
   "id": "d089ac7b",
   "metadata": {},
   "outputs": [
    {
     "data": {
      "text/plain": [
       "1    10\n",
       "2    20\n",
       "3    30\n",
       "4    40\n",
       "dtype: int64"
      ]
     },
     "execution_count": 2,
     "metadata": {},
     "output_type": "execute_result"
    }
   ],
   "source": [
    "t1 = [10,20,30,40]\n",
    "t2 = [1,2,3,4]\n",
    "pd.Series(t1,t2)"
   ]
  },
  {
   "cell_type": "code",
   "execution_count": 3,
   "id": "42798375",
   "metadata": {},
   "outputs": [
    {
     "data": {
      "text/plain": [
       "10    1\n",
       "20    2\n",
       "30    3\n",
       "40    4\n",
       "dtype: int64"
      ]
     },
     "execution_count": 3,
     "metadata": {},
     "output_type": "execute_result"
    }
   ],
   "source": [
    "pd.Series(t2,t1)"
   ]
  },
  {
   "cell_type": "code",
   "execution_count": 4,
   "id": "95e35910",
   "metadata": {},
   "outputs": [
    {
     "data": {
      "text/plain": [
       "0     Pune-Camp\n",
       "1     Pune-Camp\n",
       "2     Pune-Camp\n",
       "3     Pune-Camp\n",
       "4     Pune-Camp\n",
       "        ...    \n",
       "95    Pune-Camp\n",
       "96    Pune-Camp\n",
       "97    Pune-Camp\n",
       "98    Pune-Camp\n",
       "99    Pune-Camp\n",
       "Length: 100, dtype: object"
      ]
     },
     "execution_count": 4,
     "metadata": {},
     "output_type": "execute_result"
    }
   ],
   "source": [
    "# SBI--> Branch is 'Pune-Camp'\n",
    "# create a Branch record for 100 Employees\n",
    "pd.Series('Pune-Camp',index=range(100))\n",
    "# generating a scalar series"
   ]
  },
  {
   "cell_type": "code",
   "execution_count": 5,
   "id": "3c2f8f6f",
   "metadata": {},
   "outputs": [
    {
     "data": {
      "text/plain": [
       "0    Sarang\n",
       "1    Sarang\n",
       "2    Sarang\n",
       "3    Sarang\n",
       "4    Sarang\n",
       "5    Sarang\n",
       "6    Sarang\n",
       "7    Sarang\n",
       "8    Sarang\n",
       "9    Sarang\n",
       "dtype: object"
      ]
     },
     "execution_count": 5,
     "metadata": {},
     "output_type": "execute_result"
    }
   ],
   "source": [
    "# create a Series with name Sarang 10 times\n",
    "pd.Series('Sarang',range(10))"
   ]
  },
  {
   "cell_type": "code",
   "execution_count": 6,
   "id": "8a8c5bf8",
   "metadata": {},
   "outputs": [
    {
     "name": "stdout",
     "output_type": "stream",
     "text": [
      "['T', '_AXIS_LEN', '_AXIS_NAMES', '_AXIS_NUMBERS', '_AXIS_ORDERS', '_AXIS_TO_AXIS_NUMBER', '_HANDLED_TYPES', '__abs__', '__add__', '__and__', '__annotations__', '__array__', '__array_priority__', '__array_ufunc__', '__array_wrap__', '__bool__', '__class__', '__contains__', '__copy__', '__deepcopy__', '__delattr__', '__delitem__', '__dict__', '__dir__', '__divmod__', '__doc__', '__eq__', '__finalize__', '__float__', '__floordiv__', '__format__', '__ge__', '__getattr__', '__getattribute__', '__getitem__', '__getstate__', '__gt__', '__hash__', '__iadd__', '__iand__', '__ifloordiv__', '__imod__', '__imul__', '__init__', '__init_subclass__', '__int__', '__invert__', '__ior__', '__ipow__', '__isub__', '__iter__', '__itruediv__', '__ixor__', '__le__', '__len__', '__long__', '__lt__', '__matmul__', '__mod__', '__module__', '__mul__', '__ne__', '__neg__', '__new__', '__nonzero__', '__or__', '__pos__', '__pow__', '__radd__', '__rand__', '__rdivmod__', '__reduce__', '__reduce_ex__', '__repr__', '__rfloordiv__', '__rmatmul__', '__rmod__', '__rmul__', '__ror__', '__round__', '__rpow__', '__rsub__', '__rtruediv__', '__rxor__', '__setattr__', '__setitem__', '__setstate__', '__sizeof__', '__str__', '__sub__', '__subclasshook__', '__truediv__', '__weakref__', '__xor__', '_accessors', '_accum_func', '_add_numeric_operations', '_agg_by_level', '_agg_examples_doc', '_agg_see_also_doc', '_align_frame', '_align_series', '_append', '_arith_method', '_as_manager', '_binop', '_can_hold_na', '_check_inplace_and_allows_duplicate_labels', '_check_inplace_setting', '_check_is_chained_assignment_possible', '_check_label_or_level_ambiguity', '_check_setitem_copy', '_clear_item_cache', '_clip_with_one_bound', '_clip_with_scalar', '_cmp_method', '_consolidate', '_consolidate_inplace', '_construct_axes_dict', '_construct_axes_from_arguments', '_construct_result', '_constructor', '_constructor_expanddim', '_convert', '_convert_dtypes', '_data', '_dir_additions', '_dir_deletions', '_drop_axis', '_drop_labels_or_levels', '_duplicated', '_find_valid_index', '_from_mgr', '_get_axis', '_get_axis_name', '_get_axis_number', '_get_axis_resolvers', '_get_block_manager_axis', '_get_bool_data', '_get_cacher', '_get_cleaned_column_resolvers', '_get_index_resolvers', '_get_label_or_level_values', '_get_numeric_data', '_get_value', '_get_values', '_get_values_tuple', '_get_with', '_gotitem', '_hidden_attrs', '_indexed_same', '_info_axis', '_info_axis_name', '_info_axis_number', '_init_dict', '_init_mgr', '_inplace_method', '_internal_names', '_internal_names_set', '_is_cached', '_is_copy', '_is_label_or_level_reference', '_is_label_reference', '_is_level_reference', '_is_mixed_type', '_is_view', '_ixs', '_logical_func', '_logical_method', '_map_values', '_maybe_update_cacher', '_memory_usage', '_metadata', '_min_count_stat_function', '_needs_reindex_multi', '_protect_consolidate', '_reduce', '_reindex_axes', '_reindex_indexer', '_reindex_multi', '_reindex_with_indexers', '_rename', '_replace_single', '_repr_data_resource_', '_repr_latex_', '_reset_cache', '_reset_cacher', '_set_as_cached', '_set_axis', '_set_axis_name', '_set_axis_nocheck', '_set_is_copy', '_set_labels', '_set_name', '_set_value', '_set_values', '_set_with', '_set_with_engine', '_slice', '_stat_axis', '_stat_axis_name', '_stat_axis_number', '_stat_function', '_stat_function_ddof', '_take_with_is_copy', '_typ', '_update_inplace', '_validate_dtype', '_values', '_where', 'abs', 'add', 'add_prefix', 'add_suffix', 'agg', 'aggregate', 'align', 'all', 'any', 'append', 'apply', 'argmax', 'argmin', 'argsort', 'array', 'asfreq', 'asof', 'astype', 'at', 'at_time', 'attrs', 'autocorr', 'axes', 'backfill', 'between', 'between_time', 'bfill', 'bool', 'cat', 'clip', 'combine', 'combine_first', 'compare', 'convert_dtypes', 'copy', 'corr', 'count', 'cov', 'cummax', 'cummin', 'cumprod', 'cumsum', 'describe', 'diff', 'div', 'divide', 'divmod', 'dot', 'drop', 'drop_duplicates', 'droplevel', 'dropna', 'dt', 'dtype', 'dtypes', 'duplicated', 'empty', 'eq', 'equals', 'ewm', 'expanding', 'explode', 'factorize', 'ffill', 'fillna', 'filter', 'first', 'first_valid_index', 'flags', 'floordiv', 'ge', 'get', 'groupby', 'gt', 'hasnans', 'head', 'hist', 'iat', 'idxmax', 'idxmin', 'iloc', 'index', 'infer_objects', 'info', 'interpolate', 'is_monotonic', 'is_monotonic_decreasing', 'is_monotonic_increasing', 'is_unique', 'isin', 'isna', 'isnull', 'item', 'items', 'iteritems', 'keys', 'kurt', 'kurtosis', 'last', 'last_valid_index', 'le', 'loc', 'lt', 'mad', 'map', 'mask', 'max', 'mean', 'median', 'memory_usage', 'min', 'mod', 'mode', 'mul', 'multiply', 'name', 'nbytes', 'ndim', 'ne', 'nlargest', 'notna', 'notnull', 'nsmallest', 'nunique', 'pad', 'pct_change', 'pipe', 'plot', 'pop', 'pow', 'prod', 'product', 'quantile', 'radd', 'rank', 'ravel', 'rdiv', 'rdivmod', 'reindex', 'reindex_like', 'rename', 'rename_axis', 'reorder_levels', 'repeat', 'replace', 'resample', 'reset_index', 'rfloordiv', 'rmod', 'rmul', 'rolling', 'round', 'rpow', 'rsub', 'rtruediv', 'sample', 'searchsorted', 'sem', 'set_axis', 'set_flags', 'shape', 'shift', 'size', 'skew', 'slice_shift', 'sort_index', 'sort_values', 'sparse', 'squeeze', 'std', 'str', 'sub', 'subtract', 'sum', 'swapaxes', 'swaplevel', 'tail', 'take', 'to_clipboard', 'to_csv', 'to_dict', 'to_excel', 'to_frame', 'to_hdf', 'to_json', 'to_latex', 'to_list', 'to_markdown', 'to_numpy', 'to_period', 'to_pickle', 'to_sql', 'to_string', 'to_timestamp', 'to_xarray', 'tolist', 'transform', 'transpose', 'truediv', 'truncate', 'tshift', 'tz_convert', 'tz_localize', 'unique', 'unstack', 'update', 'value_counts', 'values', 'var', 'view', 'where', 'xs']\n"
     ]
    }
   ],
   "source": [
    "# Methods of Series\n",
    "print(dir(pd.Series))"
   ]
  },
  {
   "cell_type": "markdown",
   "id": "8dd12e94",
   "metadata": {},
   "source": [
    "## Some important Functions from Series"
   ]
  },
  {
   "cell_type": "code",
   "execution_count": 7,
   "id": "f5052699",
   "metadata": {},
   "outputs": [
    {
     "data": {
      "text/plain": [
       "0    A\n",
       "1    B\n",
       "2    C\n",
       "3    C\n",
       "4    A\n",
       "5    C\n",
       "6    B\n",
       "7    B\n",
       "dtype: object"
      ]
     },
     "execution_count": 7,
     "metadata": {},
     "output_type": "execute_result"
    }
   ],
   "source": [
    "s = pd.Series(['A','B','C','C','A','C','B','B'])\n",
    "s"
   ]
  },
  {
   "cell_type": "markdown",
   "id": "06b91d17",
   "metadata": {},
   "source": [
    "### map(): does the mapping of new value to old"
   ]
  },
  {
   "cell_type": "code",
   "execution_count": 8,
   "id": "edd50941",
   "metadata": {},
   "outputs": [
    {
     "data": {
      "text/plain": [
       "0    Apple\n",
       "1      NaN\n",
       "2      NaN\n",
       "3      NaN\n",
       "4    Apple\n",
       "5      NaN\n",
       "6      NaN\n",
       "7      NaN\n",
       "dtype: object"
      ]
     },
     "execution_count": 8,
     "metadata": {},
     "output_type": "execute_result"
    }
   ],
   "source": [
    "# PS: convert A= Apple, B= Ball, C= Cat\n",
    "s.map({'A':'Apple'})\n",
    "# NAN: Not a Number\n",
    "# for 3 categories we need to supply 3 key value pairs in dict\n",
    "# if we supply only one like A: Apple then it will work for it\n",
    "# and rest of will be NAN"
   ]
  },
  {
   "cell_type": "code",
   "execution_count": 9,
   "id": "14d115e8",
   "metadata": {},
   "outputs": [
    {
     "data": {
      "text/plain": [
       "0    Apple\n",
       "1     Ball\n",
       "2      Cat\n",
       "3      Cat\n",
       "4    Apple\n",
       "5      Cat\n",
       "6     Ball\n",
       "7     Ball\n",
       "dtype: object"
      ]
     },
     "execution_count": 9,
     "metadata": {},
     "output_type": "execute_result"
    }
   ],
   "source": [
    "s.map({'A':'Apple','B':'Ball','C':'Cat'})\n",
    "# changes are temp."
   ]
  },
  {
   "cell_type": "code",
   "execution_count": 10,
   "id": "503e1797",
   "metadata": {},
   "outputs": [
    {
     "data": {
      "text/plain": [
       "0    A\n",
       "1    B\n",
       "2    C\n",
       "3    C\n",
       "4    A\n",
       "5    C\n",
       "6    B\n",
       "7    B\n",
       "dtype: object"
      ]
     },
     "execution_count": 10,
     "metadata": {},
     "output_type": "execute_result"
    }
   ],
   "source": [
    "s"
   ]
  },
  {
   "cell_type": "code",
   "execution_count": 11,
   "id": "2c3ff038",
   "metadata": {},
   "outputs": [
    {
     "data": {
      "text/plain": [
       "str"
      ]
     },
     "execution_count": 11,
     "metadata": {},
     "output_type": "execute_result"
    }
   ],
   "source": [
    "type(s[0])\n",
    "# collectively it is an object\n",
    "# but individuall it is string\n",
    "# hence we can apply all string methods"
   ]
  },
  {
   "cell_type": "code",
   "execution_count": 12,
   "id": "21028130",
   "metadata": {},
   "outputs": [
    {
     "data": {
      "text/plain": [
       "'Apple'"
      ]
     },
     "execution_count": 12,
     "metadata": {},
     "output_type": "execute_result"
    }
   ],
   "source": [
    "'A'.replace('A','Apple')"
   ]
  },
  {
   "cell_type": "code",
   "execution_count": 13,
   "id": "4fa0b434",
   "metadata": {},
   "outputs": [
    {
     "data": {
      "text/plain": [
       "0    Apple\n",
       "1        B\n",
       "2        C\n",
       "3        C\n",
       "4    Apple\n",
       "5        C\n",
       "6        B\n",
       "7        B\n",
       "dtype: object"
      ]
     },
     "execution_count": 13,
     "metadata": {},
     "output_type": "execute_result"
    }
   ],
   "source": [
    "s.replace('A','Apple')"
   ]
  },
  {
   "cell_type": "code",
   "execution_count": 14,
   "id": "0d2c06b5",
   "metadata": {},
   "outputs": [
    {
     "data": {
      "text/plain": [
       "0    Apple\n",
       "1     Ball\n",
       "2      Cat\n",
       "3      Cat\n",
       "4    Apple\n",
       "5      Cat\n",
       "6     Ball\n",
       "7     Ball\n",
       "dtype: object"
      ]
     },
     "execution_count": 14,
     "metadata": {},
     "output_type": "execute_result"
    }
   ],
   "source": [
    "#lets supply a dict\n",
    "s.replace({'A':'Apple','B':'Ball','C':'Cat'})\n",
    "# replace above is of Series not of Str"
   ]
  },
  {
   "cell_type": "code",
   "execution_count": 15,
   "id": "98c5e8d6",
   "metadata": {},
   "outputs": [
    {
     "data": {
      "text/plain": [
       "0    Apple\n",
       "1        B\n",
       "2        C\n",
       "3        C\n",
       "4    Apple\n",
       "5        C\n",
       "6        B\n",
       "7        B\n",
       "dtype: object"
      ]
     },
     "execution_count": 15,
     "metadata": {},
     "output_type": "execute_result"
    }
   ],
   "source": [
    "# now use replace of str\n",
    "s.str.replace('A','Apple')"
   ]
  },
  {
   "cell_type": "code",
   "execution_count": 16,
   "id": "0db561cc",
   "metadata": {},
   "outputs": [
    {
     "ename": "TypeError",
     "evalue": "replace() missing 1 required positional argument: 'repl'",
     "output_type": "error",
     "traceback": [
      "\u001b[1;31m---------------------------------------------------------------------------\u001b[0m",
      "\u001b[1;31mTypeError\u001b[0m                                 Traceback (most recent call last)",
      "\u001b[1;32m~\\AppData\\Local\\Temp\\ipykernel_12392\\3964521908.py\u001b[0m in \u001b[0;36m<module>\u001b[1;34m\u001b[0m\n\u001b[0;32m      1\u001b[0m \u001b[1;31m# using str replace we cannot replace multiple items at a time\u001b[0m\u001b[1;33m\u001b[0m\u001b[1;33m\u001b[0m\u001b[0m\n\u001b[1;32m----> 2\u001b[1;33m \u001b[0ms\u001b[0m\u001b[1;33m.\u001b[0m\u001b[0mstr\u001b[0m\u001b[1;33m.\u001b[0m\u001b[0mreplace\u001b[0m\u001b[1;33m(\u001b[0m\u001b[1;33m{\u001b[0m\u001b[1;34m'A'\u001b[0m\u001b[1;33m:\u001b[0m\u001b[1;34m'Apple'\u001b[0m\u001b[1;33m,\u001b[0m\u001b[1;34m'B'\u001b[0m\u001b[1;33m:\u001b[0m\u001b[1;34m'Ball'\u001b[0m\u001b[1;33m,\u001b[0m\u001b[1;34m'C'\u001b[0m\u001b[1;33m:\u001b[0m\u001b[1;34m'Cat'\u001b[0m\u001b[1;33m}\u001b[0m\u001b[1;33m)\u001b[0m\u001b[1;33m\u001b[0m\u001b[1;33m\u001b[0m\u001b[0m\n\u001b[0m",
      "\u001b[1;32m~\\anaconda3\\lib\\site-packages\\pandas\\core\\strings\\accessor.py\u001b[0m in \u001b[0;36mwrapper\u001b[1;34m(self, *args, **kwargs)\u001b[0m\n\u001b[0;32m    123\u001b[0m                 )\n\u001b[0;32m    124\u001b[0m                 \u001b[1;32mraise\u001b[0m \u001b[0mTypeError\u001b[0m\u001b[1;33m(\u001b[0m\u001b[0mmsg\u001b[0m\u001b[1;33m)\u001b[0m\u001b[1;33m\u001b[0m\u001b[1;33m\u001b[0m\u001b[0m\n\u001b[1;32m--> 125\u001b[1;33m             \u001b[1;32mreturn\u001b[0m \u001b[0mfunc\u001b[0m\u001b[1;33m(\u001b[0m\u001b[0mself\u001b[0m\u001b[1;33m,\u001b[0m \u001b[1;33m*\u001b[0m\u001b[0margs\u001b[0m\u001b[1;33m,\u001b[0m \u001b[1;33m**\u001b[0m\u001b[0mkwargs\u001b[0m\u001b[1;33m)\u001b[0m\u001b[1;33m\u001b[0m\u001b[1;33m\u001b[0m\u001b[0m\n\u001b[0m\u001b[0;32m    126\u001b[0m \u001b[1;33m\u001b[0m\u001b[0m\n\u001b[0;32m    127\u001b[0m         \u001b[0mwrapper\u001b[0m\u001b[1;33m.\u001b[0m\u001b[0m__name__\u001b[0m \u001b[1;33m=\u001b[0m \u001b[0mfunc_name\u001b[0m\u001b[1;33m\u001b[0m\u001b[1;33m\u001b[0m\u001b[0m\n",
      "\u001b[1;31mTypeError\u001b[0m: replace() missing 1 required positional argument: 'repl'"
     ]
    }
   ],
   "source": [
    "# using str replace we cannot replace multiple items at a time\n",
    "s.str.replace({'A':'Apple','B':'Ball','C':'Cat'})"
   ]
  },
  {
   "cell_type": "code",
   "execution_count": 17,
   "id": "38bb6cbc",
   "metadata": {},
   "outputs": [
    {
     "data": {
      "text/plain": [
       "0    A\n",
       "1    B\n",
       "2    C\n",
       "3    C\n",
       "4    A\n",
       "5    C\n",
       "6    B\n",
       "7    B\n",
       "dtype: object"
      ]
     },
     "execution_count": 17,
     "metadata": {},
     "output_type": "execute_result"
    }
   ],
   "source": [
    "# it is in object dtype\n",
    "s"
   ]
  },
  {
   "cell_type": "code",
   "execution_count": 19,
   "id": "0dd63075",
   "metadata": {},
   "outputs": [
    {
     "data": {
      "text/plain": [
       "0    0\n",
       "1    1\n",
       "2    2\n",
       "3    2\n",
       "4    0\n",
       "5    2\n",
       "6    1\n",
       "7    1\n",
       "dtype: int64"
      ]
     },
     "execution_count": 19,
     "metadata": {},
     "output_type": "execute_result"
    }
   ],
   "source": [
    "# if we use replace of Series and convert data into numbers\n",
    "# it changes dtype also\n",
    "s.replace({'A':0, 'B':1, 'C':2})\n"
   ]
  },
  {
   "cell_type": "markdown",
   "id": "9b9b78b4",
   "metadata": {},
   "source": [
    "#### for converting a categorical data into other option like integer or str we can use map() and replace() of Series\n"
   ]
  },
  {
   "cell_type": "markdown",
   "id": "e72dc568",
   "metadata": {},
   "source": [
    "### ==================================================================="
   ]
  },
  {
   "cell_type": "code",
   "execution_count": 20,
   "id": "189ee4db",
   "metadata": {},
   "outputs": [
    {
     "data": {
      "text/plain": [
       "0      Male\n",
       "1    Female\n",
       "2    Female\n",
       "3      Male\n",
       "dtype: object"
      ]
     },
     "execution_count": 20,
     "metadata": {},
     "output_type": "execute_result"
    }
   ],
   "source": [
    "d = pd.Series(['Male','Female','Female','Male'])\n",
    "d"
   ]
  },
  {
   "cell_type": "markdown",
   "id": "ea16a82f",
   "metadata": {},
   "source": [
    "#####  P.S. -convert Male to 0 and Female to 1"
   ]
  },
  {
   "cell_type": "code",
   "execution_count": 21,
   "id": "7be83f28",
   "metadata": {},
   "outputs": [
    {
     "data": {
      "text/plain": [
       "0    0\n",
       "1    1\n",
       "2    1\n",
       "3    0\n",
       "dtype: int64"
      ]
     },
     "execution_count": 21,
     "metadata": {},
     "output_type": "execute_result"
    }
   ],
   "source": [
    "#using a map\n",
    "d.map({'Male':0,'Female':1})"
   ]
  },
  {
   "cell_type": "code",
   "execution_count": 22,
   "id": "df1672ae",
   "metadata": {},
   "outputs": [
    {
     "data": {
      "text/plain": [
       "0    0\n",
       "1    1\n",
       "2    1\n",
       "3    0\n",
       "dtype: int64"
      ]
     },
     "execution_count": 22,
     "metadata": {},
     "output_type": "execute_result"
    }
   ],
   "source": [
    "# using a replace of Series\n",
    "d.replace({'Male':0,'Female':1})"
   ]
  },
  {
   "cell_type": "code",
   "execution_count": 23,
   "id": "9d2e9b35",
   "metadata": {},
   "outputs": [
    {
     "data": {
      "text/plain": [
       "0    0\n",
       "1    1\n",
       "2    1\n",
       "3    0\n",
       "dtype: object"
      ]
     },
     "execution_count": 23,
     "metadata": {},
     "output_type": "execute_result"
    }
   ],
   "source": [
    "# using a replace of str\n",
    "# only str inputs are allowed in str methods\n",
    "d.str.replace('Male','0').str.replace('Female','1')"
   ]
  },
  {
   "cell_type": "code",
   "execution_count": 24,
   "id": "a5b5e41a",
   "metadata": {},
   "outputs": [
    {
     "data": {
      "text/plain": [
       "0    0\n",
       "1    1\n",
       "2    1\n",
       "3    0\n",
       "dtype: int64"
      ]
     },
     "execution_count": 24,
     "metadata": {},
     "output_type": "execute_result"
    }
   ],
   "source": [
    "# using map() from python\n",
    "f = lambda x:0 if x == 'Male' else 1\n",
    "pd.Series(map(f,d))"
   ]
  },
  {
   "cell_type": "code",
   "execution_count": 25,
   "id": "19f44435",
   "metadata": {},
   "outputs": [
    {
     "name": "stdout",
     "output_type": "stream",
     "text": [
      "0\n",
      "1\n",
      "1\n",
      "0\n"
     ]
    }
   ],
   "source": [
    "# using pythonic way\n",
    "for i in d:\n",
    "    #print(i)\n",
    "    if i == 'Male':\n",
    "        print(0)\n",
    "    else:\n",
    "        print(1)"
   ]
  },
  {
   "cell_type": "code",
   "execution_count": 26,
   "id": "7d7eebbb",
   "metadata": {},
   "outputs": [],
   "source": [
    "for i in enumerate(d):\n",
    "    #print(i)\n",
    "    if i[1] == 'Male':\n",
    "        d[i[0]] = 0\n",
    "    else:\n",
    "        d[i[0]] = 1\n",
    "# changes will b inplaced in the same series"
   ]
  },
  {
   "cell_type": "code",
   "execution_count": 27,
   "id": "26651912",
   "metadata": {},
   "outputs": [
    {
     "data": {
      "text/plain": [
       "0    0\n",
       "1    1\n",
       "2    1\n",
       "3    0\n",
       "dtype: object"
      ]
     },
     "execution_count": 27,
     "metadata": {},
     "output_type": "execute_result"
    }
   ],
   "source": [
    "d"
   ]
  },
  {
   "cell_type": "markdown",
   "id": "603812eb",
   "metadata": {},
   "source": [
    "## apply():"
   ]
  },
  {
   "cell_type": "code",
   "execution_count": 28,
   "id": "7eea8a12",
   "metadata": {},
   "outputs": [],
   "source": [
    "#d.apply(func)\n",
    "# the func we supply in apply() wil perform a given operation element by element\n",
    "def change(gender):\n",
    "    if gender == 'Male':\n",
    "        return 0\n",
    "    else:\n",
    "        return 1"
   ]
  },
  {
   "cell_type": "code",
   "execution_count": 30,
   "id": "f79e9621",
   "metadata": {},
   "outputs": [
    {
     "data": {
      "text/plain": [
       "0    1\n",
       "1    1\n",
       "2    1\n",
       "3    1\n",
       "dtype: int64"
      ]
     },
     "execution_count": 30,
     "metadata": {},
     "output_type": "execute_result"
    }
   ],
   "source": [
    "d.apply(change)"
   ]
  },
  {
   "cell_type": "code",
   "execution_count": 31,
   "id": "19440224",
   "metadata": {},
   "outputs": [
    {
     "data": {
      "text/plain": [
       "<function __main__.<lambda>(x)>"
      ]
     },
     "execution_count": 31,
     "metadata": {},
     "output_type": "execute_result"
    }
   ],
   "source": [
    "f"
   ]
  },
  {
   "cell_type": "code",
   "execution_count": 32,
   "id": "61369d08",
   "metadata": {},
   "outputs": [
    {
     "data": {
      "text/plain": [
       "0    1\n",
       "1    1\n",
       "2    1\n",
       "3    1\n",
       "dtype: int64"
      ]
     },
     "execution_count": 32,
     "metadata": {},
     "output_type": "execute_result"
    }
   ],
   "source": [
    "d.apply(f)"
   ]
  },
  {
   "cell_type": "markdown",
   "id": "1447a2f7",
   "metadata": {},
   "source": [
    "### Lets see some mathematical and statistical operations"
   ]
  },
  {
   "cell_type": "code",
   "execution_count": 33,
   "id": "27bca57d",
   "metadata": {},
   "outputs": [
    {
     "data": {
      "text/plain": [
       "0     -1\n",
       "1     23\n",
       "2     45\n",
       "3     22\n",
       "4     10\n",
       "5     18\n",
       "6     99\n",
       "7    230\n",
       "8      5\n",
       "9     -2\n",
       "dtype: int64"
      ]
     },
     "execution_count": 33,
     "metadata": {},
     "output_type": "execute_result"
    }
   ],
   "source": [
    "k = pd.Series([-1,23,45,22,10,18,99,230,5,-2])\n",
    "k"
   ]
  },
  {
   "cell_type": "code",
   "execution_count": 34,
   "id": "8ba3aec4",
   "metadata": {},
   "outputs": [
    {
     "data": {
      "text/plain": [
       "230"
      ]
     },
     "execution_count": 34,
     "metadata": {},
     "output_type": "execute_result"
    }
   ],
   "source": [
    "# return max element\n",
    "k.max()"
   ]
  },
  {
   "cell_type": "code",
   "execution_count": 35,
   "id": "9b7811be",
   "metadata": {},
   "outputs": [
    {
     "data": {
      "text/plain": [
       "-2"
      ]
     },
     "execution_count": 35,
     "metadata": {},
     "output_type": "execute_result"
    }
   ],
   "source": [
    "# return min element\n",
    "k.min()"
   ]
  },
  {
   "cell_type": "code",
   "execution_count": 36,
   "id": "465d3e5c",
   "metadata": {},
   "outputs": [
    {
     "data": {
      "text/plain": [
       "20.0"
      ]
     },
     "execution_count": 36,
     "metadata": {},
     "output_type": "execute_result"
    }
   ],
   "source": [
    "# return median\n",
    "k.median()"
   ]
  },
  {
   "cell_type": "code",
   "execution_count": 38,
   "id": "9150ae1c",
   "metadata": {},
   "outputs": [
    {
     "data": {
      "text/plain": [
       "0     -2\n",
       "1     -1\n",
       "2      5\n",
       "3     10\n",
       "4     18\n",
       "5     22\n",
       "6     23\n",
       "7     45\n",
       "8     99\n",
       "9    230\n",
       "dtype: int64"
      ]
     },
     "execution_count": 38,
     "metadata": {},
     "output_type": "execute_result"
    }
   ],
   "source": [
    "# return mode\n",
    "k.mode()\n",
    "#mode() give most frequent data: no. of occurance matters"
   ]
  },
  {
   "cell_type": "code",
   "execution_count": 39,
   "id": "b0667059",
   "metadata": {},
   "outputs": [
    {
     "data": {
      "text/plain": [
       "0    1\n",
       "1    2\n",
       "2    1\n",
       "3    1\n",
       "4    3\n",
       "5    1\n",
       "dtype: int64"
      ]
     },
     "execution_count": 39,
     "metadata": {},
     "output_type": "execute_result"
    }
   ],
   "source": [
    "r = pd.Series([1,2,1,1,3,1])\n",
    "r"
   ]
  },
  {
   "cell_type": "code",
   "execution_count": 40,
   "id": "a06445da",
   "metadata": {},
   "outputs": [
    {
     "data": {
      "text/plain": [
       "0    1\n",
       "dtype: int64"
      ]
     },
     "execution_count": 40,
     "metadata": {},
     "output_type": "execute_result"
    }
   ],
   "source": [
    "r.mode()"
   ]
  },
  {
   "cell_type": "code",
   "execution_count": 41,
   "id": "7d2affe1",
   "metadata": {},
   "outputs": [],
   "source": [
    " #majority is with 1, i.e. 1 is present multiple times, hence it returns 1"
   ]
  },
  {
   "cell_type": "code",
   "execution_count": 42,
   "id": "61f47b61",
   "metadata": {},
   "outputs": [
    {
     "data": {
      "text/plain": [
       "0    1\n",
       "1    3\n",
       "2    4\n",
       "3    5\n",
       "4    8\n",
       "5    9\n",
       "dtype: int64"
      ]
     },
     "execution_count": 42,
     "metadata": {},
     "output_type": "execute_result"
    }
   ],
   "source": [
    "# cumsum: cummulative summation\n",
    "r.cumsum()"
   ]
  },
  {
   "cell_type": "code",
   "execution_count": 43,
   "id": "f4ff94e5",
   "metadata": {},
   "outputs": [
    {
     "data": {
      "text/plain": [
       "0    1\n",
       "1    2\n",
       "2    2\n",
       "3    2\n",
       "4    6\n",
       "5    6\n",
       "dtype: int64"
      ]
     },
     "execution_count": 43,
     "metadata": {},
     "output_type": "execute_result"
    }
   ],
   "source": [
    "# cumprod: cummulative product\n",
    "r.cumprod()"
   ]
  },
  {
   "cell_type": "code",
   "execution_count": 44,
   "id": "51dbe732",
   "metadata": {},
   "outputs": [
    {
     "data": {
      "text/plain": [
       "0    1\n",
       "1    2\n",
       "2    1\n",
       "3    1\n",
       "4    3\n",
       "5    1\n",
       "dtype: int64"
      ]
     },
     "execution_count": 44,
     "metadata": {},
     "output_type": "execute_result"
    }
   ],
   "source": [
    "r"
   ]
  },
  {
   "cell_type": "code",
   "execution_count": 45,
   "id": "ac2fc968",
   "metadata": {},
   "outputs": [
    {
     "data": {
      "text/plain": [
       "0    False\n",
       "1    False\n",
       "2     True\n",
       "3     True\n",
       "4    False\n",
       "5     True\n",
       "dtype: bool"
      ]
     },
     "execution_count": 45,
     "metadata": {},
     "output_type": "execute_result"
    }
   ],
   "source": [
    "# duplicated()\n",
    "r.duplicated()"
   ]
  },
  {
   "cell_type": "code",
   "execution_count": 48,
   "id": "461d8b69",
   "metadata": {},
   "outputs": [
    {
     "data": {
      "text/plain": [
       "0     True\n",
       "1    False\n",
       "2     True\n",
       "3     True\n",
       "4    False\n",
       "5    False\n",
       "dtype: bool"
      ]
     },
     "execution_count": 48,
     "metadata": {},
     "output_type": "execute_result"
    }
   ],
   "source": [
    "r.duplicated(keep='last')"
   ]
  },
  {
   "cell_type": "code",
   "execution_count": 49,
   "id": "56f477cf",
   "metadata": {},
   "outputs": [
    {
     "data": {
      "text/plain": [
       "0    1\n",
       "1    2\n",
       "2    1\n",
       "3    1\n",
       "4    3\n",
       "5    1\n",
       "dtype: int64"
      ]
     },
     "execution_count": 49,
     "metadata": {},
     "output_type": "execute_result"
    }
   ],
   "source": [
    "r"
   ]
  },
  {
   "cell_type": "code",
   "execution_count": 52,
   "id": "77f57126",
   "metadata": {},
   "outputs": [
    {
     "data": {
      "text/plain": [
       "0    1\n",
       "2    1\n",
       "3    1\n",
       "dtype: int64"
      ]
     },
     "execution_count": 52,
     "metadata": {},
     "output_type": "execute_result"
    }
   ],
   "source": [
    "# if we want to fetch the records then we can use boolean output of duplictaed()\n",
    "# as an index\n",
    "r[r.duplicated(keep='last')]"
   ]
  },
  {
   "cell_type": "code",
   "execution_count": 53,
   "id": "85f46dd5",
   "metadata": {},
   "outputs": [
    {
     "data": {
      "text/plain": [
       "0     -1\n",
       "1     23\n",
       "2     45\n",
       "3     22\n",
       "4     10\n",
       "5     18\n",
       "6     99\n",
       "7    230\n",
       "8      5\n",
       "9     -2\n",
       "dtype: int64"
      ]
     },
     "execution_count": 53,
     "metadata": {},
     "output_type": "execute_result"
    }
   ],
   "source": [
    "k"
   ]
  },
  {
   "cell_type": "markdown",
   "id": "0bf72aec",
   "metadata": {},
   "source": [
    "### From k if we want to fetch first 5 values"
   ]
  },
  {
   "cell_type": "code",
   "execution_count": 55,
   "id": "e9c28ed2",
   "metadata": {},
   "outputs": [
    {
     "data": {
      "text/plain": [
       "0    -1\n",
       "1    23\n",
       "2    45\n",
       "3    22\n",
       "4    10\n",
       "dtype: int64"
      ]
     },
     "execution_count": 55,
     "metadata": {},
     "output_type": "execute_result"
    }
   ],
   "source": [
    "k.head()\n",
    "# It will fetch 5 values by default "
   ]
  },
  {
   "cell_type": "code",
   "execution_count": 56,
   "id": "cf0c1fb1",
   "metadata": {},
   "outputs": [
    {
     "data": {
      "text/plain": [
       "0    -1\n",
       "1    23\n",
       "dtype: int64"
      ]
     },
     "execution_count": 56,
     "metadata": {},
     "output_type": "execute_result"
    }
   ],
   "source": [
    "k.head(2) # we can supply number of top records that we want, for eg. 2"
   ]
  },
  {
   "cell_type": "markdown",
   "id": "fcc492f7",
   "metadata": {},
   "source": [
    "### now return last 5 values"
   ]
  },
  {
   "cell_type": "code",
   "execution_count": 57,
   "id": "3252b020",
   "metadata": {},
   "outputs": [
    {
     "data": {
      "text/plain": [
       "5     18\n",
       "6     99\n",
       "7    230\n",
       "8      5\n",
       "9     -2\n",
       "dtype: int64"
      ]
     },
     "execution_count": 57,
     "metadata": {},
     "output_type": "execute_result"
    }
   ],
   "source": [
    "k.tail()"
   ]
  },
  {
   "cell_type": "code",
   "execution_count": 58,
   "id": "3e88a2bb",
   "metadata": {},
   "outputs": [
    {
     "data": {
      "text/plain": [
       "7    230\n",
       "8      5\n",
       "9     -2\n",
       "dtype: int64"
      ]
     },
     "execution_count": 58,
     "metadata": {},
     "output_type": "execute_result"
    }
   ],
   "source": [
    "k.tail(3)"
   ]
  },
  {
   "cell_type": "code",
   "execution_count": 59,
   "id": "4e710bd4",
   "metadata": {},
   "outputs": [
    {
     "data": {
      "text/plain": [
       "9   -2\n",
       "dtype: int64"
      ]
     },
     "execution_count": 59,
     "metadata": {},
     "output_type": "execute_result"
    }
   ],
   "source": [
    "# fetch last value\n",
    "k.tail(1)"
   ]
  },
  {
   "cell_type": "markdown",
   "id": "b7966771",
   "metadata": {},
   "source": [
    "## nlargest():"
   ]
  },
  {
   "cell_type": "code",
   "execution_count": 60,
   "id": "df2ca1d4",
   "metadata": {},
   "outputs": [
    {
     "data": {
      "text/plain": [
       "7    230\n",
       "6     99\n",
       "2     45\n",
       "1     23\n",
       "3     22\n",
       "dtype: int64"
      ]
     },
     "execution_count": 60,
     "metadata": {},
     "output_type": "execute_result"
    }
   ],
   "source": [
    "k.nlargest() # it will retun top 5 records from k(sequence)"
   ]
  },
  {
   "cell_type": "code",
   "execution_count": 61,
   "id": "d29066cd",
   "metadata": {},
   "outputs": [
    {
     "data": {
      "text/plain": [
       "7    230\n",
       "6     99\n",
       "2     45\n",
       "dtype: int64"
      ]
     },
     "execution_count": 61,
     "metadata": {},
     "output_type": "execute_result"
    }
   ],
   "source": [
    "# if you want to fetch only top 3 values,\n",
    "k.nlargest(3)"
   ]
  },
  {
   "cell_type": "code",
   "execution_count": null,
   "id": "9ed0fd46",
   "metadata": {},
   "outputs": [],
   "source": [
    "# assignment: check, nsmallest()\n",
    "k.nsmallest()\n",
    "# it "
   ]
  }
 ],
 "metadata": {
  "kernelspec": {
   "display_name": "Python 3 (ipykernel)",
   "language": "python",
   "name": "python3"
  },
  "language_info": {
   "codemirror_mode": {
    "name": "ipython",
    "version": 3
   },
   "file_extension": ".py",
   "mimetype": "text/x-python",
   "name": "python",
   "nbconvert_exporter": "python",
   "pygments_lexer": "ipython3",
   "version": "3.9.13"
  }
 },
 "nbformat": 4,
 "nbformat_minor": 5
}
